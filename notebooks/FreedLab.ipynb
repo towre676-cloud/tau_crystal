{
  "nbformat": 4,
  "nbformat_minor": 5,
  "metadata": {
    "kernelspec": {
      "display_name": "Python 3",
      "language": "python",
      "name": "python3"
    },
    "language_info": {
      "name": "python",
      "version": "3"
    }
  },
  "cells": [
    {
      "cell_type": "markdown",
      "metadata": {},
      "id": "md-32189955",
      "source": "# Freed RG Lab — receipts & plots\n\nThis notebook pulls receipts from `analysis/freed/` and `.tau_ledger/freed/`,\ndraws a couple of simple plots (if `matplotlib` is available), and prints a compact summary.\n"
    },
    {
      "cell_type": "code",
      "metadata": {},
      "id": "py-27381568",
      "execution_count": null,
      "outputs": [],
      "source": "import sys, os, glob, json, math\n# Windows asyncio policy to placate nbconvert on Win10/11\nif sys.platform.startswith('win'):\n    import asyncio\n    try:\n        asyncio.set_event_loop_policy(asyncio.WindowsSelectorEventLoopPolicy())\n    except Exception as e:\n        print('[info] cannot set WindowsSelectorEventLoopPolicy:', e)\ntry:\n    import matplotlib\n    matplotlib.use('Agg')  # headless-safe\n    import matplotlib.pyplot as plt\nexcept Exception as e:\n    plt = None; print('[info] matplotlib not available:', e)\n\ndef latest(pattern):\n    files = sorted(glob.glob(pattern))\n    return files[-1] if files else None\n\ndef load_json(path):\n    try:\n        with open(path, 'r', encoding='utf-8') as f:\n            return json.load(f)\n    except Exception as e:\n        print('[warn] cannot load', path, e); return None\n\nos.makedirs('analysis/freed', exist_ok=True)\n"
    },
    {
      "cell_type": "markdown",
      "metadata": {},
      "id": "md-95080804",
      "source": "## Determinant identity (trace vs finite difference)\n"
    },
    {
      "cell_type": "code",
      "metadata": {},
      "id": "py-32996916",
      "execution_count": null,
      "outputs": [],
      "source": "p = latest('analysis/freed/*_determinant_identity.json')\nif not p:\n    print('[warn] no determinant_identity receipt found')\nelse:\n    j = load_json(p)\n    xs  = [row['ell'] for row in j['grid']]\n    lhs = [row['lhs_tr_identity'] for row in j['grid']]\n    rhs = [row['rhs_fd'] for row in j['grid']]\n    print('[determinant] max_abs_err =', j.get('max_abs_err'))\n    if plt:\n        import matplotlib.pyplot as plt  # ensure alias\n        plt.figure()\n        plt.plot(xs, lhs, label='trace identity')\n        plt.plot(xs, rhs, linestyle='dashed', label='finite diff')\n        plt.title('trace vs d/dℓ log det Σ')\n        plt.legend(); plt.tight_layout(); plt.show()\n"
    },
    {
      "cell_type": "markdown",
      "metadata": {},
      "id": "md-19275640",
      "source": "## TMF deltas (mock elliptic correction)\n"
    },
    {
      "cell_type": "code",
      "metadata": {},
      "id": "py-48601742",
      "execution_count": null,
      "outputs": [],
      "source": "p = latest('analysis/freed/*_tmf_deltas.json')\nif not p:\n    print('[warn] no tmf_deltas receipt found (mock may be off)')\nelse:\n    j = load_json(p) or {}\n    tmf = j.get('tmf', {})\n    print('[tmf] levels=', tmf.get('levels'), 'eps=', tmf.get('eps'))\n    for k in ('phi_off','phi_on'):\n        sec = tmf.get(k, {})\n        print(f\"[tmf {k}] delta_whole=\", sec.get('delta_whole'), ' delta_segments=', sec.get('delta_segments'))\n    print('[tmf] checks:', j.get('checks'))\n"
    },
    {
      "cell_type": "markdown",
      "metadata": {},
      "id": "md-90862403",
      "source": "## Defects (W(B₅) walls)\n"
    },
    {
      "cell_type": "code",
      "metadata": {},
      "id": "py-86541151",
      "execution_count": null,
      "outputs": [],
      "source": "p = latest('.tau_ledger/freed/defect_*.manifest.json')\nif not p:\n    print('[warn] no defect manifest found')\nelse:\n    j = load_json(p) or {}\n    cert = j.get('certificates', {})\n    print('[defect] sign_flip_phase=', cert.get('sign_flip_phase'),\n          'perm_phase=', cert.get('perm_phase'))\n    print('[defect] sign_flip_shape_err=', cert.get('sign_flip_shape_err'),\n          'perm_shape_err=', cert.get('perm_shape_err'))\n"
    },
    {
      "cell_type": "markdown",
      "metadata": {},
      "id": "md-39099016",
      "source": "## Axioms summary\n"
    },
    {
      "cell_type": "code",
      "metadata": {},
      "id": "py-76590884",
      "execution_count": null,
      "outputs": [],
      "source": "from pprint import pprint\np = latest('analysis/freed/axioms_*.json')\nif not p:\n    print('[warn] no axioms json found — run scripts/freed/axioms_table.py')\nelse:\n    pprint(load_json(p))\n"
    }
  ]
}