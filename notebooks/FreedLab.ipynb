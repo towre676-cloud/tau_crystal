{
  "nbformat": 4,
  "nbformat_minor": 5,
  "metadata": {
    "kernelspec": {
      "display_name": "Python 3",
      "language": "python",
      "name": "python3"
    },
    "language_info": {
      "name": "python",
      "version": "3"
    }
  },
  "cells": [
    {
      "cell_type": "markdown",
      "metadata": {},
      "id": "280eb48dce914eeda207268211769d11",
      "source": [
        "# Freed RG Lab \u2014 receipts & plots\n",
        "\n",
        "Runs purely from `analysis/freed/` and `.tau_ledger/freed/`. If a panel has no data yet, it prints a hint.\n"
      ]
    },
    {
      "cell_type": "code",
      "metadata": {},
      "id": "1958b717c1424095a875a8ddca9fb259",
      "execution_count": null,
      "outputs": [],
      "source": [
        "import os, glob, json, math\n",
        "try:\n",
        "    import matplotlib.pyplot as plt\n",
        "except Exception as e:\n",
        "    plt = None; print('[info] matplotlib not available:', e)\n",
        "\n",
        "def latest(pattern):\n",
        "    files = sorted(glob.glob(pattern))\n",
        "    return files[-1] if files else None\n",
        "\n",
        "def load_json(path):\n",
        "    try:\n",
        "        with open(path, 'r', encoding='utf-8') as f: return json.load(f)\n",
        "    except Exception as e:\n",
        "        print('[warn] cannot load', path, e); return None\n",
        "\n",
        "os.makedirs('analysis/freed', exist_ok=True)\n",
        "\n"
      ]
    },
    {
      "cell_type": "markdown",
      "metadata": {},
      "id": "8fa355cfe06b42fd97b6112401a7ef88",
      "source": [
        "## 1) Flatness identity (diag/mixed)"
      ]
    },
    {
      "cell_type": "code",
      "metadata": {},
      "id": "99183d552f614af2bc2d70bc794a22f1",
      "execution_count": null,
      "outputs": [],
      "source": [
        "p = latest('analysis/freed/*_determinant_identity.json')\n",
        "J = load_json(p) if p else None\n",
        "if not J:\n",
        "    print('[hint] run scripts/freed/rg_leaf_checks.py to emit determinant_identity JSON'); \n",
        "else:\n",
        "    mx = J.get('max_abs_err', None)\n",
        "    print('max_abs_err =', mx, ' from ', p)\n",
        "    xs = [g['ell'] for g in J['grid'][:200]]\n",
        "    lhs = [g['lhs_tr_identity'] for g in J['grid'][:200]]\n",
        "    rhs = [g['rhs_fd'] for g in J['grid'][:200]]\n",
        "    if plt:\n",
        "        plt.figure(); plt.plot(xs, lhs, label='tr(\u03a3^{-1}\u2202\u03a3)'); plt.plot(xs, rhs, linestyle='--', label='\u2202\u2113 log det \u03a3'); plt.title('Flatness identity'); plt.legend(); plt.xlabel('\u2113'); plt.ylabel('value'); plt.show()\n",
        "\n"
      ]
    },
    {
      "cell_type": "markdown",
      "metadata": {},
      "id": "1f8f5e8d3ef6440d829816198477cc96",
      "source": [
        "## 2) Factorization (segment sum vs whole)"
      ]
    },
    {
      "cell_type": "code",
      "metadata": {},
      "id": "4e4d7a5614de499f95c6d25cf86e177b",
      "execution_count": null,
      "outputs": [],
      "source": [
        "p0 = latest('analysis/freed/*_factorization_phi_off.json')\n",
        "p1 = latest('analysis/freed/*_factorization_phi_on.json')\n",
        "J0 = load_json(p0) if p0 else None\n",
        "J1 = load_json(p1) if p1 else None\n",
        "for tag,JJ in [('\u03c6 off',J0),('\u03c6 on',J1)]:\n",
        "    if not JJ: print('[hint]', tag, 'factorization file missing'); continue\n",
        "    print(tag, 'sum_segments=', JJ['sum_segments'], ' whole=', JJ['whole'], ' abs_err=', JJ['abs_err'])\n",
        "\n"
      ]
    },
    {
      "cell_type": "markdown",
      "metadata": {},
      "id": "9764ec6a6dc84af4a490bc35c6323fcb",
      "source": [
        "## 3) TMF mock deltas (levels 12,18,30)"
      ]
    },
    {
      "cell_type": "code",
      "metadata": {},
      "id": "c9c78284fca744c0a73d0504cab4ab3f",
      "execution_count": null,
      "outputs": [],
      "source": [
        "p = latest('analysis/freed/*_tmf_deltas.json')\n",
        "J = load_json(p) if p else None\n",
        "if not J:\n",
        "    print('[hint] run verifier with FREED_TMF_MOCK=1 to emit tmf_deltas JSON')\n",
        "else:\n",
        "    T = J.get('tmf', {})\n",
        "    print('levels=', T.get('levels'), ' eps=', T.get('eps'), ' rtol=', T.get('rtol'), ' atol=', T.get('atol'))\n",
        "    for key in ('phi_off','phi_on'):\n",
        "        if key in T:\n",
        "            K=T[key]\n",
        "            print(key, '\u0394whole=', K['delta_whole'], '\u0394segments=', K['delta_segments'], ' (baseline whole=', K['baseline_whole'], ')')\n",
        "\n"
      ]
    },
    {
      "cell_type": "markdown",
      "metadata": {},
      "id": "27544c25d6554cb98a4bb0d87323cee3",
      "source": [
        "## 4) \u03b7-term (\u00bd\u00b7log|W|) & \u03c6-twist"
      ]
    },
    {
      "cell_type": "code",
      "metadata": {},
      "id": "aa200327dfef4bb6b85bd4c8ceddf395",
      "execution_count": null,
      "outputs": [],
      "source": [
        "p = latest('analysis/freed/eta_tmf_*.json')\n",
        "J = load_json(p) if p else None\n",
        "if not J:\n",
        "    print('[hint] run scripts/freed/eta_tmf_report.py to emit eta report JSON')\n",
        "else:\n",
        "    S = J.get('stack', {})\n",
        "    print('stack=', S.get('effective'), ' |W|=', S.get('order'), ' eta_half_logW=', S.get('eta_half_logW'), ' phi_twist=', J.get('stack',{}).get('phi_twist'))\n",
        "\n"
      ]
    },
    {
      "cell_type": "markdown",
      "metadata": {},
      "id": "0a303c590b514580af68651d21d6427b",
      "source": [
        "## 5) Defect functor (W(B5) walls)"
      ]
    },
    {
      "cell_type": "code",
      "metadata": {},
      "id": "0942014910334fe68d5a7e3e982c5149",
      "execution_count": null,
      "outputs": [],
      "source": [
        "p = latest('analysis/freed/defect_*.json')\n",
        "J = load_json(p) if p else None\n",
        "if not J:\n",
        "    print('[hint] run scripts/freed/defect_functor.py to emit defect JSON')\n",
        "else:\n",
        "    print('sign_flip_phase=', J.get('sign_flip_phase'), ' perm_phase=', J.get('perm_phase'))\n",
        "    print('shape_err(sign)=', J.get('sign_flip_shape_err'), ' shape_err(perm)=', J.get('perm_shape_err'))\n",
        "\n"
      ]
    },
    {
      "cell_type": "markdown",
      "metadata": {},
      "id": "567db59175be4a31b7a08bc00f848ba8",
      "source": [
        "## 6) Axioms summary"
      ]
    },
    {
      "cell_type": "code",
      "metadata": {},
      "id": "29d49c3872e74c0baaab5a90c30a257d",
      "execution_count": null,
      "outputs": [],
      "source": [
        "p = latest('analysis/freed/axioms_*.json')\n",
        "J = load_json(p) if p else None\n",
        "if not J:\n",
        "    print('[hint] run scripts/freed/axioms_table.py to emit axioms JSON')\n",
        "else:\n",
        "    print('manifests counted =', J.get('manifest_count'))\n",
        "    for ax in J.get('axioms', []):\n",
        "        print(f\"- {ax['axiom']}: {ax['status']}  (certs={len(ax.get('certificates',[]))})\")\n",
        "\n"
      ]
    }
  ]
}